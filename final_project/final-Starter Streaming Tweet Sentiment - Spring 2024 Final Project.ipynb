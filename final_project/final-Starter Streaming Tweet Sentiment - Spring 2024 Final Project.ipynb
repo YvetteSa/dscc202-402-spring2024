{
 "cells": [
  {
   "cell_type": "markdown",
   "metadata": {
    "application/vnd.databricks.v1+cell": {
     "cellMetadata": {},
     "inputWidgets": {},
     "nuid": "fc749083-2211-485c-943f-640e198b2c70",
     "showTitle": false,
     "title": ""
    }
   },
   "source": [
    "## DSCC202-402 Data Science at Scale Final Project\n",
    "### Tracking Tweet sentiment at scale using a pretrained transformer (classifier)\n",
    "<p>Consider the following illustration of the end to end system that you will be building.  Each student should do their own work.  The project will demonstrate your understanding of Spark Streaming, the medalion data architecture using Delta Lake, Spark Inference at Scale using an MLflow packaged model as well as Exploritory Data Analysis and System Tracking and Monitoring.</p>\n",
    "<br><br>\n",
    "<img src=\"https://data-science-at-scale.s3.amazonaws.com/images/pipeline.drawio.png\">\n",
    "\n",
    "<p>\n",
    "You will be pulling an updated copy of the course GitHub repositiory: <a href=\"https://github.com/lpalum/dscc202-402-spring2024\">The Repo</a>.  If you are unclear on how to pull an updated copy using the GitHub command line, the following <a href=\"https://techwritingmatters.com/how-to-update-your-forked-repository-on-github\">document</a> is helpful.  Be sure to add the professors and TAs as collaborators on your project. \n",
    "\n",
    "- lpalum@gmail.com GitHub ID: lpalum\n",
    "- ajay.anand@rochester.edu GitHub ID: ajayan12\n",
    "- divyamunot1999@gmail.com GitHub ID: divyamunot\n",
    "- ylong6@u.Rochester.edu GitHub ID: NinaLong2077\n",
    "\n",
    "Once you have updates your fork of the repository you should see the following template project that is resident in the final_project directory.\n",
    "</p>\n",
    "\n",
    "<img src=\"https://data-science-at-scale.s3.amazonaws.com/images/notebooks.drawio.png\">\n",
    "\n",
    "<p>\n",
    "You can then pull your project into the Databrick Workspace using the <a href=\"https://www.databricks.training/step-by-step/importing-courseware-from-github/index.html\">Repos</a> feature.\n",
    "Each student is expected to submit the URL of their project on GitHub with their code checked in on the main/master branch.  This illustration highlights the branching scheme that you may use to work on your code in steps and then merge your submission into your master branch before submitting.\n",
    "</p>\n",
    "<img src=\"https://data-science-at-scale.s3.amazonaws.com/images/github.drawio.png\">\n",
    "<p>\n",
    "Work your way through this notebook which will give you the steps required to submit a complete and compliant project.  The following illustration and associated data dictionary specifies the transformations and data that you are to generate for each step in the medallion pipeline.\n",
    "</p>\n",
    "<br><br>\n",
    "<img src=\"https://data-science-at-scale.s3.amazonaws.com/images/dataframes.drawio.png\">\n",
    "\n",
    "#### Bronze Data - raw ingest\n",
    "- date - string in the source json\n",
    "- user - string in the source json\n",
    "- text - tweet string in the source json\n",
    "- sentiment - the given sentiment of the text as determined by an unknown model that is provided in the source json\n",
    "- source_file - the path of the source json file the this row of data was read from\n",
    "- processing_time - a timestamp of when you read this row from the source json\n",
    "\n",
    "#### Silver Data - Bronze Preprocessing\n",
    "- timestamp - convert date string in the bronze data to a timestamp\n",
    "- mention - every @username mentioned in the text string in the bronze data gets a row in this silver data table.\n",
    "- cleaned_text - the bronze text data with the mentions (@username) removed.\n",
    "- sentiment - the given sentiment that was associated with the text in the bronze table.\n",
    "\n",
    "#### Gold Data - Silver Table Inference\n",
    "- timestamp - the timestamp from the silver data table rows\n",
    "- mention - the mention from the silver data table rows\n",
    "- cleaned_text - the cleaned_text from the silver data table rows\n",
    "- sentiment - the given sentiment from the silver data table rows\n",
    "- predicted_score - score out of 100 from the Hugging Face Sentiment Transformer\n",
    "- predicted_sentiment - string representation of the sentiment\n",
    "- sentiment_id - 0 for negative and 1 for postive associated with the given sentiment\n",
    "- predicted_sentiment_id - 0 for negative and 1 for positive assocaited with the Hugging Face Sentiment Transformer\n",
    "\n",
    "#### Application Data - Gold Table Aggregation\n",
    "- min_timestamp - the oldest timestamp on a given mention (@username)\n",
    "- max_timestamp - the newest timestamp on a given mention (@username)\n",
    "- mention - the user (@username) that this row pertains to.\n",
    "- negative - total negative tweets directed at this mention (@username)\n",
    "- neutral - total neutral tweets directed at this mention (@username)\n",
    "- positive - total positive tweets directed at this mention (@username)\n",
    "\n",
    "When you are designing your approach, one of the main decisions that you will need to make is how you are going to orchestrate the streaming data processing in your pipeline.  There are several valid approaches.  First, you may choose to start the bronze_stream and let it complete (read and append all of the source data) before preceeding and starting up the silver_stream.  This approach has latency associated with it but it will allow your code to proceed in a linear fashion and process all the data by the end of your notebook execution.  Another potential approach is to start all the streams and have a \"watch\" method to determine when the pipeline has processed sufficient or all of the source data before stopping and displaying results.  Both of these approaches are valid and have different implications on how you will trigger your steams and how you will gate the execution of your pipeline.  Think through how you want to proceed and ask questions if you need guidance. The following references may be helpful:\n",
    "- [Spark Structured Streaming Programming Guide](https://spark.apache.org/docs/latest/structured-streaming-programming-guide.html)\n",
    "- [Databricks Autoloader - Cloudfiles](https://docs.databricks.com/en/ingestion/auto-loader/index.html)\n",
    "\n",
    "### Be sure that your project runs end to end when *Run all* is executued on this notebook! (15 Points out of 60)"
   ]
  },
  {
   "cell_type": "code",
   "execution_count": 0,
   "metadata": {
    "application/vnd.databricks.v1+cell": {
     "cellMetadata": {
      "byteLimit": 2048000,
      "rowLimit": 10000
     },
     "inputWidgets": {},
     "nuid": "068f25d0-1387-4342-89cf-ce82a8d614ce",
     "showTitle": true,
     "title": "Pull in the Includes & Utiltites"
    }
   },
   "outputs": [
    {
     "output_type": "stream",
     "name": "stdout",
     "output_type": "stream",
     "text": [
      "\u001B[31mERROR: pip's dependency resolver does not currently take into account all the packages that are installed. This behaviour is the source of the following dependency conflicts.\r\npetastorm 0.11.4 requires pyspark>=2.1.0, which is not installed.\u001B[0m\r\n"
     ]
    },
    {
     "output_type": "display_data",
     "data": {
      "application/vnd.databricks.v1+bamboolib_hint": "{\"pd.DataFrames\": [], \"version\": \"0.0.1\"}",
      "text/plain": []
     },
     "metadata": {},
     "output_type": "display_data"
    },
    {
     "output_type": "display_data",
     "data": {
      "text/html": [
       "\n",
       "<H2>VERY IMPORTANT TO UNDERSTAND THE USE OF THESE VARIABLES!<br> Please ask if you are confused about their use.</H2>\n",
       "<table border=1>\n",
       "<tr><td><b>Variable Name</b></td><td><b>Value</b></td><td><b>Description</b></td></tr>\n",
       "<tr><td>TWEET_BUCKET_NAME</td><td>voc-75-databricks-data</td><td>AWS S3 Bucket Name where the tweets are coming into your system.</td></tr>\n",
       "<tr><td>TWEET_BUCKET_URL</td><td>https://voc-75-databricks-data.s3.amazonaws.com/</td><td>AWS S3 Bucket URL where the tweets are coming into your system.</td></tr>\n",
       "<tr><td>TWEET_SOURCE_PATH</td><td>s3a://voc-75-databricks-data/voc_volume/</td><td>AWS S3 Path where the tweets are coming into your system.</td></tr>\n",
       "<tr><td>USER_DIR</td><td>/tmp/labuser104917-3036460/</td><td>Path to the local storage (dbfs) for your project.</td></tr>\n",
       "<tr><td>BRONZE_CHECKPOINT</td><td>/tmp/labuser104917-3036460/bronze.checkpoint</td><td>Store your Bronze Checkpoint data here.</td></tr>\n",
       "<tr><td>BRONZE_DELTA</td><td>/tmp/labuser104917-3036460/bronze.delta</td><td>Store your Bronze Delta Table here.</td></tr>\n",
       "<tr><td>SILVER_CHECKPOINT</td><td>/tmp/labuser104917-3036460/silver.checkpoint</td><td>Store your Silver Checkpoint data here.</td></tr>\n",
       "<tr><td>SILVER_DELTA</td><td>/tmp/labuser104917-3036460/silver.delta</td><td>Store your Silver Delta Table here.</td></tr>\n",
       "<tr><td>GOLD_CHECKPOINT</td><td>/tmp/labuser104917-3036460/gold.checkpoint</td><td>Store your Gold Checkpoint data here.</td></tr>\n",
       "<tr><td>GOLD_DELTA</td><td>/tmp/labuser104917-3036460/gold.delta</td><td>Store your Gold Delta Table here.</td></tr>\n",
       "<tr><td>MODEL_NAME</td><td>HF_TWEET_SENTIMENT</td><td>Load this production model</td></tr>\n",
       "<tr><td>HF_MODEL_NAME</td><td>finiteautomata/bertweet-base-sentiment-analysis</td><td>The Hugging Face Model for Tweet sentiment classification: https://huggingface.co/finiteautomata/bertweet-base-sentiment-analysis </td></tr>\n",
       "</table>\n"
      ]
     },
     "metadata": {
      "application/vnd.databricks.v1+output": {
       "addedWidgets": {},
       "arguments": {},
       "data": "\n<H2>VERY IMPORTANT TO UNDERSTAND THE USE OF THESE VARIABLES!<br> Please ask if you are confused about their use.</H2>\n<table border=1>\n<tr><td><b>Variable Name</b></td><td><b>Value</b></td><td><b>Description</b></td></tr>\n<tr><td>TWEET_BUCKET_NAME</td><td>voc-75-databricks-data</td><td>AWS S3 Bucket Name where the tweets are coming into your system.</td></tr>\n<tr><td>TWEET_BUCKET_URL</td><td>https://voc-75-databricks-data.s3.amazonaws.com/</td><td>AWS S3 Bucket URL where the tweets are coming into your system.</td></tr>\n<tr><td>TWEET_SOURCE_PATH</td><td>s3a://voc-75-databricks-data/voc_volume/</td><td>AWS S3 Path where the tweets are coming into your system.</td></tr>\n<tr><td>USER_DIR</td><td>/tmp/labuser104917-3036460/</td><td>Path to the local storage (dbfs) for your project.</td></tr>\n<tr><td>BRONZE_CHECKPOINT</td><td>/tmp/labuser104917-3036460/bronze.checkpoint</td><td>Store your Bronze Checkpoint data here.</td></tr>\n<tr><td>BRONZE_DELTA</td><td>/tmp/labuser104917-3036460/bronze.delta</td><td>Store your Bronze Delta Table here.</td></tr>\n<tr><td>SILVER_CHECKPOINT</td><td>/tmp/labuser104917-3036460/silver.checkpoint</td><td>Store your Silver Checkpoint data here.</td></tr>\n<tr><td>SILVER_DELTA</td><td>/tmp/labuser104917-3036460/silver.delta</td><td>Store your Silver Delta Table here.</td></tr>\n<tr><td>GOLD_CHECKPOINT</td><td>/tmp/labuser104917-3036460/gold.checkpoint</td><td>Store your Gold Checkpoint data here.</td></tr>\n<tr><td>GOLD_DELTA</td><td>/tmp/labuser104917-3036460/gold.delta</td><td>Store your Gold Delta Table here.</td></tr>\n<tr><td>MODEL_NAME</td><td>HF_TWEET_SENTIMENT</td><td>Load this production model</td></tr>\n<tr><td>HF_MODEL_NAME</td><td>finiteautomata/bertweet-base-sentiment-analysis</td><td>The Hugging Face Model for Tweet sentiment classification: https://huggingface.co/finiteautomata/bertweet-base-sentiment-analysis </td></tr>\n</table>\n",
       "datasetInfos": [],
       "metadata": {},
       "removedWidgets": [],
       "textData": null,
       "type": "htmlSandbox"
      }
     },
     "output_type": "display_data"
    },
    {
     "output_type": "stream",
     "name": "stdout",
     "output_type": "stream",
     "text": [
      "the includes are included\n"
     ]
    }
   ],
   "source": [
    "%run ./includes/includes"
   ]
  },
  {
   "cell_type": "code",
   "execution_count": 0,
   "metadata": {
    "application/vnd.databricks.v1+cell": {
     "cellMetadata": {
      "byteLimit": 2048000,
      "rowLimit": 10000
     },
     "inputWidgets": {},
     "nuid": "6512bf1b-50e0-4a4b-84a9-e280a6260b56",
     "showTitle": true,
     "title": "Notebook Control Widgets (maybe helpful)"
    }
   },
   "outputs": [],
   "source": [
    "\"\"\"\n",
    "Adding a widget to the notebook to control the clearing of a previous run.\n",
    "or stopping the active streams using routines defined in the utilities notebook\n",
    "\"\"\"\n",
    "dbutils.widgets.removeAll()\n",
    "\n",
    "dbutils.widgets.dropdown(\"clear_previous_run\", \"No\", [\"No\",\"Yes\"])\n",
    "if (getArgument(\"clear_previous_run\") == \"Yes\"):\n",
    "    clear_previous_run()\n",
    "    print(\"Cleared all previous data.\")\n",
    "\n",
    "dbutils.widgets.dropdown(\"stop_streams\", \"No\", [\"No\",\"Yes\"])\n",
    "if (getArgument(\"stop_streams\") == \"Yes\"):\n",
    "    stop_all_streams()\n",
    "    print(\"Stopped all active streams.\")\n",
    "\n",
    "from delta import *\n",
    "dbutils.widgets.dropdown(\"optimize_tables\", \"No\", [\"No\",\"Yes\"])\n",
    "if (getArgument(\"optimize_tables\") == \"Yes\"):\n",
    "    # Suck up those small files that we have been appending.\n",
    "    DeltaTable.forPath(spark, BRONZE_DELTA).optimize().executeCompaction()\n",
    "    # Suck up those small files that we have been appending.\n",
    "    DeltaTable.forPath(spark, SILVER_DELTA).optimize().executeCompaction()\n",
    "    # Suck up those small files that we have been appending.\n",
    "    DeltaTable.forPath(spark, GOLD_DELTA).optimize().executeCompaction()\n",
    "    print(\"Optimized all of the Delta Tables\")"
   ]
  },
  {
   "cell_type": "code",
   "execution_count": 0,
   "metadata": {
    "application/vnd.databricks.v1+cell": {
     "cellMetadata": {
      "byteLimit": 2048000,
      "rowLimit": 10000
     },
     "inputWidgets": {},
     "nuid": "f23a2540-6e0b-4961-b9d6-9e2a4b63cf30",
     "showTitle": false,
     "title": ""
    }
   },
   "outputs": [
    {
     "output_type": "stream",
     "name": "stdout",
     "output_type": "stream",
     "text": [
      "Out[9]: True"
     ]
    }
   ],
   "source": [
    "# # Delete Bronze Delta Table\n",
    "# dbutils.fs.rm(\"/tmp/labuser104917-3036460/bronze.delta\", recurse=True)\n",
    "\n",
    "# # Delete Bronze Checkpoint Directory\n",
    "# dbutils.fs.rm(\"/tmp/labuser104917-3036460/bronze.checkpoint\", recurse=True)\n",
    "\n",
    "# # Delete Silver Delta Table\n",
    "# dbutils.fs.rm(\"/tmp/labuser104917-3036460/silver.delta\", recurse=True)\n",
    "\n",
    "# # Delete Silver Checkpoint Directory\n",
    "# dbutils.fs.rm(\"/tmp/labuser104917-3036460/silver.checkpoint\", recurse=True)\n",
    "\n",
    "# # Delete Gold Delta Table\n",
    "# dbutils.fs.rm(\"/tmp/labuser104917-3036460/gold.delta\", recurse=True)\n",
    "\n",
    "# # Delete Gold Checkpoint Directory\n",
    "# dbutils.fs.rm(\"/tmp/labuser104917-3036460/gold.checkpoint\", recurse=True)"
   ]
  },
  {
   "cell_type": "markdown",
   "metadata": {
    "application/vnd.databricks.v1+cell": {
     "cellMetadata": {},
     "inputWidgets": {},
     "nuid": "e8ce7c13-7f8f-4e11-b50c-fdaebbcf3f99",
     "showTitle": false,
     "title": ""
    }
   },
   "source": [
    "## 1.0 Import your libraries here...\n",
    "- Are your shuffle partitions consistent with your cluster and your workload?\n",
    "- Do you have the necessary libraries to perform the required operations in the pipeline/application?"
   ]
  },
  {
   "cell_type": "code",
   "execution_count": 0,
   "metadata": {
    "application/vnd.databricks.v1+cell": {
     "cellMetadata": {
      "byteLimit": 2048000,
      "rowLimit": 10000
     },
     "inputWidgets": {},
     "nuid": "8175a6f2-65be-421d-b136-8e2dba1ab539",
     "showTitle": false,
     "title": ""
    }
   },
   "outputs": [],
   "source": [
    "spark.conf.set(\"spark.sql.adaptive.coalescePartitions.enabled\", \"true\")"
   ]
  },
  {
   "cell_type": "code",
   "execution_count": 0,
   "metadata": {
    "application/vnd.databricks.v1+cell": {
     "cellMetadata": {
      "byteLimit": 2048000,
      "rowLimit": 10000
     },
     "inputWidgets": {},
     "nuid": "67bafbb7-d34e-4e86-b159-b2e062faa1d0",
     "showTitle": false,
     "title": ""
    }
   },
   "outputs": [],
   "source": [
    "import numpy as np\n",
    "import pandas as pd\n",
    "import time\n",
    "\n",
    "from delta.tables import DeltaTable\n",
    "from pyspark.sql.functions import *\n",
    "from pyspark.sql.types import StructType, StructField, StringType, IntegerType, TimestampType, DoubleType\n",
    "\n",
    "import torch\n",
    "import transformers\n",
    "import mlflow\n",
    "from pyspark.ml.evaluation import MulticlassClassificationEvaluator\n",
    "\n",
    "import seaborn as sns\n",
    "import matplotlib.pyplot as plt"
   ]
  },
  {
   "cell_type": "markdown",
   "metadata": {
    "application/vnd.databricks.v1+cell": {
     "cellMetadata": {},
     "inputWidgets": {},
     "nuid": "2b7624b4-0aa5-46b7-9767-52f462b2c574",
     "showTitle": false,
     "title": ""
    }
   },
   "source": [
    "## 2.0 Use the utility functions to ...\n",
    "- Read the source file directory listing\n",
    "- Count the source files (how many are there?)\n",
    "- print the contents of one of the files"
   ]
  },
  {
   "cell_type": "code",
   "execution_count": 0,
   "metadata": {
    "application/vnd.databricks.v1+cell": {
     "cellMetadata": {
      "byteLimit": 2048000,
      "rowLimit": 10000
     },
     "inputWidgets": {},
     "nuid": "a59749d5-e45d-460f-9be1-33652cda2ea5",
     "showTitle": false,
     "title": ""
    }
   },
   "outputs": [
    {
     "output_type": "display_data",
     "data": {
      "text/html": [
       "<div>\n",
       "<style scoped>\n",
       "    .dataframe tbody tr th:only-of-type {\n",
       "        vertical-align: middle;\n",
       "    }\n",
       "\n",
       "    .dataframe tbody tr th {\n",
       "        vertical-align: top;\n",
       "    }\n",
       "\n",
       "    .dataframe thead th {\n",
       "        text-align: right;\n",
       "    }\n",
       "</style>\n",
       "<table border=\"1\" class=\"dataframe\">\n",
       "  <thead>\n",
       "    <tr style=\"text-align: right;\">\n",
       "      <th></th>\n",
       "      <th>File Name</th>\n",
       "    </tr>\n",
       "  </thead>\n",
       "  <tbody>\n",
       "    <tr>\n",
       "      <th>0</th>\n",
       "      <td>voc_volume/0.json</td>\n",
       "    </tr>\n",
       "    <tr>\n",
       "      <th>1</th>\n",
       "      <td>voc_volume/1.json</td>\n",
       "    </tr>\n",
       "    <tr>\n",
       "      <th>2</th>\n",
       "      <td>voc_volume/10.json</td>\n",
       "    </tr>\n",
       "    <tr>\n",
       "      <th>3</th>\n",
       "      <td>voc_volume/100.json</td>\n",
       "    </tr>\n",
       "    <tr>\n",
       "      <th>4</th>\n",
       "      <td>voc_volume/1000.json</td>\n",
       "    </tr>\n",
       "    <tr>\n",
       "      <th>...</th>\n",
       "      <td>...</td>\n",
       "    </tr>\n",
       "    <tr>\n",
       "      <th>199996</th>\n",
       "      <td>voc_volume/99995.json</td>\n",
       "    </tr>\n",
       "    <tr>\n",
       "      <th>199997</th>\n",
       "      <td>voc_volume/99996.json</td>\n",
       "    </tr>\n",
       "    <tr>\n",
       "      <th>199998</th>\n",
       "      <td>voc_volume/99997.json</td>\n",
       "    </tr>\n",
       "    <tr>\n",
       "      <th>199999</th>\n",
       "      <td>voc_volume/99998.json</td>\n",
       "    </tr>\n",
       "    <tr>\n",
       "      <th>200000</th>\n",
       "      <td>voc_volume/99999.json</td>\n",
       "    </tr>\n",
       "  </tbody>\n",
       "</table>\n",
       "<p>200001 rows × 1 columns</p>\n",
       "</div>"
      ]
     },
     "metadata": {
      "application/vnd.databricks.v1+output": {
       "addedWidgets": {},
       "arguments": {},
       "data": "<div>\n<style scoped>\n    .dataframe tbody tr th:only-of-type {\n        vertical-align: middle;\n    }\n\n    .dataframe tbody tr th {\n        vertical-align: top;\n    }\n\n    .dataframe thead th {\n        text-align: right;\n    }\n</style>\n<table border=\"1\" class=\"dataframe\">\n  <thead>\n    <tr style=\"text-align: right;\">\n      <th></th>\n      <th>File Name</th>\n    </tr>\n  </thead>\n  <tbody>\n    <tr>\n      <th>0</th>\n      <td>voc_volume/0.json</td>\n    </tr>\n    <tr>\n      <th>1</th>\n      <td>voc_volume/1.json</td>\n    </tr>\n    <tr>\n      <th>2</th>\n      <td>voc_volume/10.json</td>\n    </tr>\n    <tr>\n      <th>3</th>\n      <td>voc_volume/100.json</td>\n    </tr>\n    <tr>\n      <th>4</th>\n      <td>voc_volume/1000.json</td>\n    </tr>\n    <tr>\n      <th>...</th>\n      <td>...</td>\n    </tr>\n    <tr>\n      <th>199996</th>\n      <td>voc_volume/99995.json</td>\n    </tr>\n    <tr>\n      <th>199997</th>\n      <td>voc_volume/99996.json</td>\n    </tr>\n    <tr>\n      <th>199998</th>\n      <td>voc_volume/99997.json</td>\n    </tr>\n    <tr>\n      <th>199999</th>\n      <td>voc_volume/99998.json</td>\n    </tr>\n    <tr>\n      <th>200000</th>\n      <td>voc_volume/99999.json</td>\n    </tr>\n  </tbody>\n</table>\n<p>200001 rows × 1 columns</p>\n</div>",
       "datasetInfos": [],
       "metadata": {},
       "removedWidgets": [],
       "textData": null,
       "type": "htmlSandbox"
      }
     },
     "output_type": "display_data"
    }
   ],
   "source": [
    "# List the files in the source directory\n",
    "file_list = get_source_listing_df()\n",
    "file_list"
   ]
  },
  {
   "cell_type": "code",
   "execution_count": 0,
   "metadata": {
    "application/vnd.databricks.v1+cell": {
     "cellMetadata": {
      "byteLimit": 2048000,
      "rowLimit": 10000
     },
     "inputWidgets": {},
     "nuid": "179733d4-05ec-45f0-8195-f2d8c38f275a",
     "showTitle": false,
     "title": ""
    }
   },
   "outputs": [
    {
     "output_type": "stream",
     "name": "stdout",
     "output_type": "stream",
     "text": [
      "Out[10]: File Name    200001\ndtype: int64"
     ]
    }
   ],
   "source": [
    "# Count the number of files\n",
    "file_list.count()"
   ]
  },
  {
   "cell_type": "code",
   "execution_count": 0,
   "metadata": {
    "application/vnd.databricks.v1+cell": {
     "cellMetadata": {
      "byteLimit": 2048000,
      "rowLimit": 10000
     },
     "inputWidgets": {},
     "nuid": "650cfb1a-043d-4ef5-aa67-4ac5e8fe2e06",
     "showTitle": false,
     "title": ""
    }
   },
   "outputs": [
    {
     "output_type": "stream",
     "name": "stdout",
     "output_type": "stream",
     "text": [
      "b'{\"date\": \"Mon Apr 06 22:19:49 PDT 2009\", \"user\": \"scotthamilton\", \"text\": \"is upset that he can\\'t update his Facebook by texting it... and might cry as a result  School today also. Blah!\", \"sentiment\": \"negative\"}'\n"
     ]
    }
   ],
   "source": [
    "# Print the contents of one of the files\n",
    "print(show_s3_file_contents('voc_volume/1.json'))"
   ]
  },
  {
   "cell_type": "markdown",
   "metadata": {
    "application/vnd.databricks.v1+cell": {
     "cellMetadata": {},
     "inputWidgets": {},
     "nuid": "1676aed7-527f-4ea7-9d3b-52544e8c1e37",
     "showTitle": false,
     "title": ""
    }
   },
   "source": [
    "## 3.0 Transform the Raw Data to Bronze Data using a stream\n",
    "- define the schema for the raw data\n",
    "- setup a read stream using cloudfiles and the source data format\n",
    "- setup a write stream using cloudfiles to append to the bronze delta table\n",
    "- enforce schema\n",
    "- allow a new schema to be merged into the bronze delta table\n",
    "- Use the defined BRONZE_CHECKPOINT and BRONZE_DELTA paths defines in the includes\n",
    "- name your raw to bronze stream as bronze_stream\n",
    "- transform the raw data to the bronze data using the data definition at the top of the notebook"
   ]
  },
  {
   "cell_type": "code",
   "execution_count": 0,
   "metadata": {
    "application/vnd.databricks.v1+cell": {
     "cellMetadata": {
      "byteLimit": 2048000,
      "rowLimit": 10000
     },
     "inputWidgets": {},
     "nuid": "c4e37574-9885-4908-bf97-609d140a8818",
     "showTitle": false,
     "title": ""
    }
   },
   "outputs": [],
   "source": [
    "#  define the schema\n",
    "raw_schema = StructType([\n",
    "    StructField(\"date\", StringType(), True),\n",
    "    StructField(\"user\", StringType(), True),\n",
    "    StructField(\"text\", StringType(), True),\n",
    "    StructField(\"sentiment\", StringType(), True),\n",
    "    StructField(\"source_file\", StringType(), False),\n",
    "    StructField('processing_time', TimestampType(), False)\n",
    "])\n",
    "\n",
    "raw_df = (\n",
    "    spark\n",
    "    .readStream\n",
    "    .format(\"cloudFiles\")\n",
    "    .option(\"cloudFiles.format\", \"json\")  # Specify the format of the files in the storage\n",
    "    .option(\"path\", TWEET_SOURCE_PATH)\n",
    "    .option(\"mergeSchema\", \"true\")\n",
    "    .schema(raw_schema)  # Apply the schema defined\n",
    "    .load()  \n",
    ")\n",
    "\n",
    "# Transform the raw data to add processing_time and source_file (if not included in raw data)\n",
    "raw_df = raw_df.withColumn(\"source_file\", input_file_name())\n",
    "raw_df = raw_df.withColumn(\"processing_time\", current_timestamp())"
   ]
  },
  {
   "cell_type": "code",
   "execution_count": 0,
   "metadata": {
    "application/vnd.databricks.v1+cell": {
     "cellMetadata": {
      "byteLimit": 2048000,
      "rowLimit": 10000
     },
     "inputWidgets": {},
     "nuid": "4b381734-db02-4dbf-9e08-8bd790e08f94",
     "showTitle": false,
     "title": ""
    }
   },
   "outputs": [],
   "source": [
    "# Setup the write stream with the defined checkpoint location and table path\n",
    "bronze_stream = (raw_df\n",
    "                 .writeStream\n",
    "                 .format(\"delta\")\n",
    "                 .outputMode(\"append\")\n",
    "                 .option(\"checkpointLocation\", BRONZE_CHECKPOINT)\n",
    "                 .option(\"mergeSchema\", \"true\")\n",
    "                 .trigger(processingTime=\"10 seconds\") \n",
    "                 .queryName(\"bronze_stream\")\n",
    "                 .start(BRONZE_DELTA))"
   ]
  },
  {
   "cell_type": "code",
   "execution_count": 0,
   "metadata": {
    "application/vnd.databricks.v1+cell": {
     "cellMetadata": {
      "byteLimit": 2048000,
      "rowLimit": 10000
     },
     "inputWidgets": {},
     "nuid": "a1fab097-cd42-40e2-b0e1-b8417ed0c203",
     "showTitle": false,
     "title": ""
    }
   },
   "outputs": [],
   "source": [
    "bronze_stream.awaitTermination()"
   ]
  },
  {
   "cell_type": "code",
   "execution_count": 0,
   "metadata": {
    "application/vnd.databricks.v1+cell": {
     "cellMetadata": {
      "byteLimit": 2048000,
      "rowLimit": 10000
     },
     "inputWidgets": {},
     "nuid": "1969980b-91bb-4dca-9980-8c3290aa786e",
     "showTitle": false,
     "title": ""
    }
   },
   "outputs": [
    {
     "output_type": "stream",
     "name": "stdout",
     "output_type": "stream",
     "text": [
      "{'message': 'Getting offsets from CloudFilesSource[s3a://voc-75-databricks-data/voc_volume/]', 'isDataAvailable': False, 'isTriggerActive': True}\n"
     ]
    }
   ],
   "source": [
    "print(bronze_stream.status)  # Check the status of stream"
   ]
  },
  {
   "cell_type": "code",
   "execution_count": 0,
   "metadata": {
    "application/vnd.databricks.v1+cell": {
     "cellMetadata": {
      "byteLimit": 2048000,
      "rowLimit": 10000
     },
     "inputWidgets": {},
     "nuid": "1c0bfb97-3b82-4930-a56b-4c74472b1ad3",
     "showTitle": false,
     "title": ""
    }
   },
   "outputs": [
    {
     "output_type": "display_data",
     "data": {
      "text/html": [
       "<style scoped>\n",
       "  .table-result-container {\n",
       "    max-height: 300px;\n",
       "    overflow: auto;\n",
       "  }\n",
       "  table, th, td {\n",
       "    border: 1px solid black;\n",
       "    border-collapse: collapse;\n",
       "  }\n",
       "  th, td {\n",
       "    padding: 5px;\n",
       "  }\n",
       "  th {\n",
       "    text-align: left;\n",
       "  }\n",
       "</style><div class='table-result-container'><table class='table-result'><thead style='background-color: white'><tr><th>date</th><th>user</th><th>text</th><th>sentiment</th><th>source_file</th><th>processing_time</th></tr></thead><tbody><tr><td>Fri May 01 21:30:59 PDT 2009</td><td>PenutButrToast</td><td>@RuthCollins Haven't caught the new video yet...the new song doesn't quite beat &quot;You're not sorry&quot; for me. Checked out your music - nice! </td><td>positive</td><td>s3a://voc-75-databricks-data/voc_volume/102869.json</td><td>2024-05-11T16:56:14.012+0000</td></tr><tr><td>Fri May 01 21:35:51 PDT 2009</td><td>rashaancruze</td><td>I've decided to start twittering uplifting quotes that inspire me from &quot;The Alchemist&quot;, author Wayne Dyer, Louise Hay, Deepak Chopra etc. </td><td>positive</td><td>s3a://voc-75-databricks-data/voc_volume/103018.json</td><td>2024-05-11T16:56:14.012+0000</td></tr><tr><td>Fri May 01 21:40:37 PDT 2009</td><td>MichaelJMeyer</td><td>�To be yourself in a world that is constantly trying to make you something else is the greatest accomplishment.� Ralph Waldo Emerson.  </td><td>positive</td><td>s3a://voc-75-databricks-data/voc_volume/103124.json</td><td>2024-05-11T16:56:14.012+0000</td></tr><tr><td>Fri May 01 21:30:39 PDT 2009</td><td>tuxedopants</td><td>@skeena00 I went to Cap, lived in C-bus for 7 yrs &amp; got OSU tattoo days before moving to LA. A friend reps Hugh Jackman &amp; I just can't... </td><td>positive</td><td>s3a://voc-75-databricks-data/voc_volume/102816.json</td><td>2024-05-11T16:56:14.012+0000</td></tr><tr><td>Fri May 01 21:30:46 PDT 2009</td><td>robogoose</td><td>Hey!!! www.themediamall.com playon is working great now, well at &quot;low&quot; setting only. Hey I'm just happy I'm getting streaming media, yeah </td><td>positive</td><td>s3a://voc-75-databricks-data/voc_volume/102836.json</td><td>2024-05-11T16:56:14.012+0000</td></tr></tbody></table></div>"
      ]
     },
     "metadata": {
      "application/vnd.databricks.v1+output": {
       "addedWidgets": {},
       "aggData": [],
       "aggError": "",
       "aggOverflow": false,
       "aggSchema": [],
       "aggSeriesLimitReached": false,
       "aggType": "",
       "arguments": {},
       "columnCustomDisplayInfos": {},
       "data": [
        [
         "Fri May 01 21:30:59 PDT 2009",
         "PenutButrToast",
         "@RuthCollins Haven't caught the new video yet...the new song doesn't quite beat &quot;You're not sorry&quot; for me. Checked out your music - nice! ",
         "positive",
         "s3a://voc-75-databricks-data/voc_volume/102869.json",
         "2024-05-11T16:56:14.012+0000"
        ],
        [
         "Fri May 01 21:35:51 PDT 2009",
         "rashaancruze",
         "I've decided to start twittering uplifting quotes that inspire me from &quot;The Alchemist&quot;, author Wayne Dyer, Louise Hay, Deepak Chopra etc. ",
         "positive",
         "s3a://voc-75-databricks-data/voc_volume/103018.json",
         "2024-05-11T16:56:14.012+0000"
        ],
        [
         "Fri May 01 21:40:37 PDT 2009",
         "MichaelJMeyer",
         "�To be yourself in a world that is constantly trying to make you something else is the greatest accomplishment.� Ralph Waldo Emerson.  ",
         "positive",
         "s3a://voc-75-databricks-data/voc_volume/103124.json",
         "2024-05-11T16:56:14.012+0000"
        ],
        [
         "Fri May 01 21:30:39 PDT 2009",
         "tuxedopants",
         "@skeena00 I went to Cap, lived in C-bus for 7 yrs &amp; got OSU tattoo days before moving to LA. A friend reps Hugh Jackman &amp; I just can't... ",
         "positive",
         "s3a://voc-75-databricks-data/voc_volume/102816.json",
         "2024-05-11T16:56:14.012+0000"
        ],
        [
         "Fri May 01 21:30:46 PDT 2009",
         "robogoose",
         "Hey!!! www.themediamall.com playon is working great now, well at &quot;low&quot; setting only. Hey I'm just happy I'm getting streaming media, yeah ",
         "positive",
         "s3a://voc-75-databricks-data/voc_volume/102836.json",
         "2024-05-11T16:56:14.012+0000"
        ]
       ],
       "datasetInfos": [],
       "dbfsResultPath": null,
       "isJsonSchema": true,
       "metadata": {},
       "overflow": false,
       "plotOptions": {
        "customPlotOptions": {},
        "displayType": "table",
        "pivotAggregation": null,
        "pivotColumns": null,
        "xColumns": null,
        "yColumns": null
       },
       "removedWidgets": [],
       "schema": [
        {
         "metadata": "{}",
         "name": "date",
         "type": "\"string\""
        },
        {
         "metadata": "{}",
         "name": "user",
         "type": "\"string\""
        },
        {
         "metadata": "{}",
         "name": "text",
         "type": "\"string\""
        },
        {
         "metadata": "{}",
         "name": "sentiment",
         "type": "\"string\""
        },
        {
         "metadata": "{}",
         "name": "source_file",
         "type": "\"string\""
        },
        {
         "metadata": "{}",
         "name": "processing_time",
         "type": "\"timestamp\""
        }
       ],
       "type": "table"
      }
     },
     "output_type": "display_data"
    }
   ],
   "source": [
    "bronze_df = spark.read.format(\"delta\").load(USER_DIR+\"bronze.delta\")\n",
    "display(bronze_df.limit(5))"
   ]
  },
  {
   "cell_type": "markdown",
   "metadata": {
    "application/vnd.databricks.v1+cell": {
     "cellMetadata": {},
     "inputWidgets": {},
     "nuid": "9bc3e824-d218-43e5-a43b-4c6dbe31950d",
     "showTitle": false,
     "title": ""
    }
   },
   "source": [
    "## 4.0 Bronze Data Exploratory Data Analysis\n",
    "- How many tweets are captured in your Bronze Table?\n",
    "- Are there any columns that contain Nan or Null values?  If so how many and what will you do in your silver transforms to address this?\n",
    "- Count the number of tweets by each unique user handle and sort the data by descending count.\n",
    "- How many tweets have at least one mention (@) how many tweet have no mentions (@)\n",
    "- Plot a bar chart that shows the top 20 tweeters (users)\n"
   ]
  },
  {
   "cell_type": "code",
   "execution_count": 0,
   "metadata": {
    "application/vnd.databricks.v1+cell": {
     "cellMetadata": {
      "byteLimit": 2048000,
      "rowLimit": 10000
     },
     "inputWidgets": {},
     "nuid": "091ec59c-d968-4acf-b56f-cc9178cd0693",
     "showTitle": false,
     "title": ""
    }
   },
   "outputs": [
    {
     "output_type": "stream",
     "name": "stdout",
     "output_type": "stream",
     "text": [
      "Total number of tweets: 200000\n"
     ]
    }
   ],
   "source": [
    "tweet_count = bronze_df.count()\n",
    "print(f\"Total number of tweets: {tweet_count}\")"
   ]
  },
  {
   "cell_type": "code",
   "execution_count": 0,
   "metadata": {
    "application/vnd.databricks.v1+cell": {
     "cellMetadata": {
      "byteLimit": 2048000,
      "rowLimit": 10000
     },
     "inputWidgets": {},
     "nuid": "3ac1722a-9d8e-47f6-b2ec-60148c4d70e0",
     "showTitle": false,
     "title": ""
    }
   },
   "outputs": [
    {
     "output_type": "stream",
     "name": "stdout",
     "output_type": "stream",
     "text": [
      "+----+----+----+---------+-----------+---------------+\n|date|user|text|sentiment|source_file|processing_time|\n+----+----+----+---------+-----------+---------------+\n|   0|   0|   0|        0|          0|              0|\n+----+----+----+---------+-----------+---------------+\n\n"
     ]
    }
   ],
   "source": [
    "# Check if there exists colunmns containing nan or null values\n",
    "missing_values = bronze_df.select([count(when(isnan(col(c).cast(\"double\")) | col(c).isNull(), c)).alias(c) for c in bronze_df.columns])\n",
    "missing_values.show()"
   ]
  },
  {
   "cell_type": "code",
   "execution_count": 0,
   "metadata": {
    "application/vnd.databricks.v1+cell": {
     "cellMetadata": {
      "byteLimit": 2048000,
      "rowLimit": 10000
     },
     "inputWidgets": {},
     "nuid": "ed2d404b-89d3-4817-9d11-8bc6f597e454",
     "showTitle": false,
     "title": ""
    }
   },
   "outputs": [
    {
     "output_type": "stream",
     "name": "stdout",
     "output_type": "stream",
     "text": [
      "+---------------+-----+\n|           user|count|\n+---------------+-----+\n|       tweetpet|  310|\n|     nuttychris|  129|\n|      iHomeTech|   81|\n|       tsarnick|   77|\n| Hollywood_Trey|   71|\n|  divxdownloads|   68|\n|      lesley007|   65|\n|  redrobinrockn|   58|\n|    MissxMarisa|   57|\n|     SarahSaner|   56|\n|     sebby_peek|   55|\n|        kasey79|   54|\n|torilovesbradie|   51|\n|    whitsundays|   51|\n|         keza34|   49|\n| MiDesfileNegro|   48|\n|        Dogbook|   47|\n|   TraceyHewins|   46|\n|    effingcards|   43|\n|         Djalfy|   43|\n+---------------+-----+\nonly showing top 20 rows\n\n"
     ]
    }
   ],
   "source": [
    "tweets_by_ueser = bronze_df.groupBy('user').count().orderBy(desc('count'))\n",
    "tweets_by_ueser.show()"
   ]
  },
  {
   "cell_type": "code",
   "execution_count": 0,
   "metadata": {
    "application/vnd.databricks.v1+cell": {
     "cellMetadata": {
      "byteLimit": 2048000,
      "rowLimit": 10000
     },
     "inputWidgets": {},
     "nuid": "1b1a965f-33c5-417d-89dd-969379b4c24e",
     "showTitle": false,
     "title": ""
    }
   },
   "outputs": [
    {
     "output_type": "stream",
     "name": "stdout",
     "output_type": "stream",
     "text": [
      "Tweets with mentions: 93817\nTweets without mentions: 106183\n"
     ]
    }
   ],
   "source": [
    "# Count tweets with and without mentions\n",
    "tweets_with_mentions = bronze_df.filter(col(\"text\").contains(\"@\")).count()\n",
    "tweets_without_mentions = tweet_count - tweets_with_mentions\n",
    "\n",
    "print(f\"Tweets with mentions: {tweets_with_mentions}\")\n",
    "print(f\"Tweets without mentions: {tweets_without_mentions}\")"
   ]
  },
  {
   "cell_type": "code",
   "execution_count": 0,
   "metadata": {
    "application/vnd.databricks.v1+cell": {
     "cellMetadata": {
      "byteLimit": 2048000,
      "rowLimit": 10000
     },
     "inputWidgets": {},
     "nuid": "8ad773ee-df47-490a-aec1-6723715647eb",
     "showTitle": false,
     "title": ""
    }
   },
   "outputs": [
    {
     "output_type": "display_data",
     "data": {
      "image/png": "[encoded data removed]"
     },
     "metadata": {
      "application/vnd.databricks.v1+output": {
       "addedWidgets": {},
       "arguments": {},
       "data": "data:image/png;base64,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\n",
       "datasetInfos": [],
       "metadata": {},
       "removedWidgets": [],
       "type": "image"
      }
     },
     "output_type": "display_data"
    }
   ],
   "source": [
    "# Convert Spark DataFrame to Pandas DataFrame\n",
    "top_tweeters = tweets_by_ueser.limit(20).toPandas()\n",
    "\n",
    "# Plotting\n",
    "plt.figure(figsize=(12, 8))\n",
    "plt.bar(top_tweeters['user'], top_tweeters['count'], color='blue')\n",
    "plt.xlabel('User Handles')\n",
    "plt.ylabel('Number of Tweets')\n",
    "plt.title('Top 20 Tweeters')\n",
    "plt.xticks(rotation=45, ha='right')\n",
    "plt.tight_layout()\n",
    "plt.show()"
   ]
  },
  {
   "cell_type": "markdown",
   "metadata": {
    "application/vnd.databricks.v1+cell": {
     "cellMetadata": {},
     "inputWidgets": {},
     "nuid": "38c290b9-a42a-4551-857b-3f461b8a1be6",
     "showTitle": false,
     "title": ""
    }
   },
   "source": [
    "## 5.0 Transform the Bronze Data to Silver Data using a stream\n",
    "- setup a read stream on your bronze delta table\n",
    "- setup a write stream to append to the silver delta table\n",
    "- Use the defined SILVER_CHECKPOINT and SILVER_DELTA paths in the includes\n",
    "- name your bronze to silver stream as silver_stream\n",
    "- transform the bronze data to the silver data using the data definition at the top of the notebook"
   ]
  },
  {
   "cell_type": "code",
   "execution_count": 0,
   "metadata": {
    "application/vnd.databricks.v1+cell": {
     "cellMetadata": {
      "byteLimit": 2048000,
      "rowLimit": 10000
     },
     "inputWidgets": {},
     "nuid": "1ad06a6b-224e-4aef-ba87-c244a0026216",
     "showTitle": false,
     "title": ""
    }
   },
   "outputs": [],
   "source": [
    "# Setup the read stream for the Bronze Delta table\n",
    "bronze_df = (spark\n",
    "             .readStream\n",
    "             .format('delta')            \n",
    "             .load(BRONZE_DELTA))"
   ]
  },
  {
   "cell_type": "code",
   "execution_count": 0,
   "metadata": {
    "application/vnd.databricks.v1+cell": {
     "cellMetadata": {
      "byteLimit": 2048000,
      "rowLimit": 10000
     },
     "inputWidgets": {},
     "nuid": "de0f590e-739e-4335-a0b3-f6a59314c2b2",
     "showTitle": false,
     "title": ""
    }
   },
   "outputs": [],
   "source": [
    "bronze_cleaned_df = bronze_df.withColumn(\"cleaned_text\", regexp_replace(col(\"text\"), r'@\\w+', \"\"))\n",
    "\n",
    "silver_df = bronze_cleaned_df.select(\n",
    "    col('date').alias('timestamp'),\n",
    "    col('text').contains('@').cast('integer').alias('mention'),\n",
    "    col('cleaned_text'), \n",
    "    col('sentiment')    )"
   ]
  },
  {
   "cell_type": "code",
   "execution_count": 0,
   "metadata": {
    "application/vnd.databricks.v1+cell": {
     "cellMetadata": {
      "byteLimit": 2048000,
      "rowLimit": 10000
     },
     "inputWidgets": {},
     "nuid": "b02e5871-b34d-41f9-b1b6-60f81867d2c5",
     "showTitle": false,
     "title": ""
    }
   },
   "outputs": [],
   "source": [
    "# Setup the stream to write to the Silver Delta table\n",
    "silver_stream = (\n",
    "    silver_df\n",
    "    .writeStream\n",
    "    .format(\"delta\")\n",
    "    .outputMode(\"append\")\n",
    "    # .trigger(once=True)\n",
    "    .option(\"checkpointLocation\", SILVER_CHECKPOINT)\n",
    "    .option(\"path\", SILVER_DELTA)\n",
    "    .queryName(\"silver_stream\") \n",
    "    .start()\n",
    ")"
   ]
  },
  {
   "cell_type": "code",
   "execution_count": 0,
   "metadata": {
    "application/vnd.databricks.v1+cell": {
     "cellMetadata": {
      "byteLimit": 2048000,
      "rowLimit": 10000
     },
     "inputWidgets": {},
     "nuid": "5631098e-378a-44b8-a3cc-469c0ee811b1",
     "showTitle": false,
     "title": ""
    }
   },
   "outputs": [],
   "source": [
    "silver_stream.awaitTermination()"
   ]
  },
  {
   "cell_type": "code",
   "execution_count": 0,
   "metadata": {
    "application/vnd.databricks.v1+cell": {
     "cellMetadata": {
      "byteLimit": 2048000,
      "rowLimit": 10000
     },
     "inputWidgets": {},
     "nuid": "d79771bd-ae4c-4609-8cd0-f0d3cedb9a22",
     "showTitle": false,
     "title": ""
    }
   },
   "outputs": [
    {
     "output_type": "stream",
     "name": "stdout",
     "output_type": "stream",
     "text": [
      "{'message': 'Waiting for next trigger', 'isDataAvailable': False, 'isTriggerActive': False}\n"
     ]
    }
   ],
   "source": [
    "# Check the status of stream\n",
    "print(silver_stream.status)   "
   ]
  },
  {
   "cell_type": "code",
   "execution_count": 0,
   "metadata": {
    "application/vnd.databricks.v1+cell": {
     "cellMetadata": {
      "byteLimit": 2048000,
      "rowLimit": 10000
     },
     "inputWidgets": {},
     "nuid": "284bb97a-8238-4feb-9bd9-0d115bd1b867",
     "showTitle": false,
     "title": ""
    }
   },
   "outputs": [
    {
     "output_type": "stream",
     "name": "stdout",
     "output_type": "stream",
     "text": [
      "Out[36]: 200000"
     ]
    }
   ],
   "source": [
    "silver_data = spark.read.format(\"delta\").load(SILVER_DELTA)\n",
    "silver_data.count()"
   ]
  },
  {
   "cell_type": "markdown",
   "metadata": {
    "application/vnd.databricks.v1+cell": {
     "cellMetadata": {},
     "inputWidgets": {},
     "nuid": "9ee38aba-e340-4766-8339-71ef2ecfde3a",
     "showTitle": false,
     "title": ""
    }
   },
   "source": [
    "## 6.0 Transform the Silver Data to Gold Data using a stream\n",
    "- setup a read stream on your silver delta table\n",
    "- setup a write stream to append to the gold delta table\n",
    "- Use the defined GOLD_CHECKPOINT and GOLD_DELTA paths defines in the includes\n",
    "- name your silver to gold stream as gold_stream\n",
    "- transform the silver data to the gold data using the data definition at the top of the notebook\n",
    "- Load the pretrained transformer sentiment classifier from the MODEL_NAME at the production level from the MLflow registry\n",
    "- Use a spark UDF to parallelize the inference across your silver data"
   ]
  },
  {
   "cell_type": "code",
   "execution_count": 0,
   "metadata": {
    "application/vnd.databricks.v1+cell": {
     "cellMetadata": {
      "byteLimit": 2048000,
      "rowLimit": 10000
     },
     "inputWidgets": {},
     "nuid": "02fe5be0-042b-47fd-9ffc-aeee0f50a08f",
     "showTitle": false,
     "title": ""
    }
   },
   "outputs": [
    {
     "output_type": "display_data",
     "data": {
      "application/vnd.jupyter.widget-view+json": {
       "model_id": "ac7479eadeb94ebdb8b97a08420a9ad3",
       "version_major": 2,
       "version_minor": 0
      },
      "text/plain": [
       "Downloading artifacts:   0%|          | 0/25 [00:00<?, ?it/s]"
      ]
     },
     "metadata": {},
     "output_type": "display_data"
    },
    {
     "output_type": "stream",
     "name": "stdout",
     "output_type": "stream",
     "text": [
      "2024/05/11 22:13:05 INFO mlflow.store.artifact.artifact_repo: The progress bar can be disabled by setting the environment variable MLFLOW_ENABLE_ARTIFACTS_PROGRESS_BAR to false\n2024/05/11 22:13:09 WARNING mlflow.utils.requirements_utils: Detected one or more mismatches between the model's dependencies and the current Python environment:\n - mlflow (current: 2.12.2, required: mlflow==2.11.3)\nTo fix the mismatches, call `mlflow.pyfunc.get_model_dependencies(model_uri)` to fetch the model's environment and install dependencies using the resulting environment file.\n2024/05/11 22:13:09 WARNING mlflow.transformers.model_io: Could not specify device parameter for this pipeline type.Falling back to loading the model with the default device.\n"
     ]
    },
    {
     "output_type": "display_data",
     "data": {
      "application/vnd.jupyter.widget-view+json": {
       "model_id": "cc8d92eb1d9c4ac399cb4652edf827c5",
       "version_major": 2,
       "version_minor": 0
      },
      "text/plain": [
       "Loading checkpoint shards:   0%|          | 0/2 [00:00<?, ?it/s]"
      ]
     },
     "metadata": {},
     "output_type": "display_data"
    }
   ],
   "source": [
    "# Load the pretrained transformer sentiment classifier\n",
    "model_uri = f\"models:/{MODEL_NAME}/1\"\n",
    "loaded_model = mlflow.pyfunc.load_model(model_uri)"
   ]
  },
  {
   "cell_type": "code",
   "execution_count": 0,
   "metadata": {
    "application/vnd.databricks.v1+cell": {
     "cellMetadata": {
      "byteLimit": 2048000,
      "rowLimit": 10000
     },
     "inputWidgets": {},
     "nuid": "e1556ae3-162d-4890-abac-968034fdea39",
     "showTitle": false,
     "title": ""
    }
   },
   "outputs": [],
   "source": [
    "@pandas_udf(\"score: int, label: string\")\n",
    "\n",
    "def perform_model_inference(s: pd.Series) -> pd.DataFrame:\n",
    "    predictions = loaded_model.predict(s.tolist())\n",
    "    return pd.DataFrame({\n",
    "        \"score\": predictions[\"score\"].map(lambda x: int(x * 100)).tolist(),\n",
    "        \"label\": predictions[\"label\"].tolist(),\n",
    "    })\n",
    "\n",
    "silver_df = spark.readStream.format(\"delta\").load(SILVER_DELTA)\n",
    "# silver_df_100 = silver_df.limit(100)"
   ]
  },
  {
   "cell_type": "code",
   "execution_count": 0,
   "metadata": {
    "application/vnd.databricks.v1+cell": {
     "cellMetadata": {
      "byteLimit": 2048000,
      "rowLimit": 10000
     },
     "inputWidgets": {},
     "nuid": "5f013bcd-ba38-4905-b54d-ad785b441fe4",
     "showTitle": false,
     "title": ""
    }
   },
   "outputs": [],
   "source": [
    "gold_df = (silver_df\n",
    "    .withColumn(\"sentiment_analysis\", perform_model_inference(col(\"cleaned_text\")))\n",
    "    .withColumn(\"predicted_score\", col(\"sentiment_analysis.score\"))  \n",
    "    .withColumn(\"predicted_sentiment\", col(\"sentiment_analysis.label\"))\n",
    "    .withColumn(\"sentiment_id\", when(col(\"sentiment\") == \"positive\", 1).otherwise(0))\n",
    "    .withColumn(\"predicted_sentiment_id\", when(col(\"predicted_sentiment\") == \"POS\", 1).otherwise(0))\n",
    "    .select(\"timestamp\", \"mention\", \"cleaned_text\", \"sentiment\", \"predicted_score\", \"predicted_sentiment\", \"sentiment_id\", \"predicted_sentiment_id\"))\n",
    "\n",
    "# the neutral labels are included as negative"
   ]
  },
  {
   "cell_type": "code",
   "execution_count": 0,
   "metadata": {
    "application/vnd.databricks.v1+cell": {
     "cellMetadata": {
      "byteLimit": 2048000,
      "rowLimit": 10000
     },
     "inputWidgets": {},
     "nuid": "d1262517-8a76-4652-8457-81844fecd822",
     "showTitle": false,
     "title": ""
    }
   },
   "outputs": [],
   "source": [
    "gold_stream = (\n",
    "    gold_df\n",
    "    .writeStream\n",
    "    .format(\"delta\")\n",
    "    .option(\"checkpointLocation\", GOLD_CHECKPOINT)\n",
    "    .outputMode(\"append\")\n",
    "    .trigger(processingTime=\"10 seconds\") \n",
    "    .queryName(\"gold_stream\")\n",
    "    .start(GOLD_DELTA)\n",
    ")"
   ]
  },
  {
   "cell_type": "code",
   "execution_count": 0,
   "metadata": {
    "application/vnd.databricks.v1+cell": {
     "cellMetadata": {
      "byteLimit": 2048000,
      "rowLimit": 10000
     },
     "inputWidgets": {},
     "nuid": "d3e0a16c-74be-4fa8-9c62-713d53e3e39c",
     "showTitle": false,
     "title": ""
    }
   },
   "outputs": [
    {
     "output_type": "stream",
     "name": "stdout",
     "output_type": "stream",
     "text": [
      "{'message': 'Waiting for next trigger', 'isDataAvailable': False, 'isTriggerActive': False}\n"
     ]
    }
   ],
   "source": [
    "# Check the status of stream\n",
    "print(gold_stream.status)"
   ]
  },
  {
   "cell_type": "code",
   "execution_count": 0,
   "metadata": {
    "application/vnd.databricks.v1+cell": {
     "cellMetadata": {
      "byteLimit": 2048000,
      "rowLimit": 10000
     },
     "inputWidgets": {},
     "nuid": "975ae861-8b9a-4dda-be73-5dc2ff994256",
     "showTitle": false,
     "title": ""
    }
   },
   "outputs": [],
   "source": [
    "gold_stream.awaitTermination() "
   ]
  },
  {
   "cell_type": "code",
   "execution_count": 0,
   "metadata": {
    "application/vnd.databricks.v1+cell": {
     "cellMetadata": {
      "byteLimit": 2048000,
      "rowLimit": 10000
     },
     "inputWidgets": {},
     "nuid": "dbccbb36-4a37-4241-ba1b-ef89833fe9c3",
     "showTitle": false,
     "title": ""
    }
   },
   "outputs": [
    {
     "output_type": "stream",
     "name": "stdout",
     "output_type": "stream",
     "text": [
      "Out[112]: 200000"
     ]
    }
   ],
   "source": [
    "# spark.conf.set(\"spark.databricks.delta.formatCheck.enabled\", \"false\")\n",
    "gold_data = spark.read.format(\"delta\").load(GOLD_DELTA)\n",
    "gold_data.count()"
   ]
  },
  {
   "cell_type": "code",
   "execution_count": 0,
   "metadata": {
    "application/vnd.databricks.v1+cell": {
     "cellMetadata": {
      "byteLimit": 2048000,
      "rowLimit": 10000
     },
     "inputWidgets": {},
     "nuid": "8b20854b-96bf-45e4-a13b-962d407d260f",
     "showTitle": false,
     "title": ""
    }
   },
   "outputs": [
    {
     "output_type": "display_data",
     "data": {
      "text/html": [
       "<style scoped>\n",
       "  .table-result-container {\n",
       "    max-height: 300px;\n",
       "    overflow: auto;\n",
       "  }\n",
       "  table, th, td {\n",
       "    border: 1px solid black;\n",
       "    border-collapse: collapse;\n",
       "  }\n",
       "  th, td {\n",
       "    padding: 5px;\n",
       "  }\n",
       "  th {\n",
       "    text-align: left;\n",
       "  }\n",
       "</style><div class='table-result-container'><table class='table-result'><thead style='background-color: white'><tr><th>timestamp</th><th>mention</th><th>cleaned_text</th><th>sentiment</th><th>predicted_score</th><th>predicted_sentiment</th><th>sentiment_id</th><th>predicted_sentiment_id</th></tr></thead><tbody><tr><td>Mon May 04 07:40:52 PDT 2009</td><td>1</td><td> hilarious. so if she acts up, all you have to do is say 1 little word...&quot;gummed up&quot; grosses me out; hub says it 2 torment </td><td>positive</td><td>96</td><td>NEG</td><td>1</td><td>0</td></tr><tr><td>Mon May 04 07:49:33 PDT 2009</td><td>0</td><td>Oh yea,justtoblazethingsupthismorning. Thererfemaledj'swho can cut&amp;mix w/ the best of them. Butudonthear them cuz feelings will get hurt. </td><td>negative</td><td>64</td><td>NEU</td><td>0</td><td>0</td></tr><tr><td>Mon May 04 07:50:07 PDT 2009</td><td>0</td><td>rise &amp; shine people. another long day of school ahead. then math hw with Jordan? who knows.. oh I also have a big mission today too. boo </td><td>negative</td><td>51</td><td>NEG</td><td>0</td><td>0</td></tr><tr><td>Sat May 09 18:15:24 PDT 2009</td><td>1</td><td> If you mean backround then.. Settings&gt;design.. scroll to the bottem and click change backround image  &amp; there ya go.</td><td>positive</td><td>92</td><td>NEU</td><td>1</td><td>0</td></tr><tr><td>Sat May 09 18:19:33 PDT 2009</td><td>1</td><td> pointed out that while my convertible may have 415 horsepower, the visors &quot;suck ass&quot; and I should take it back. Immediately. </td><td>negative</td><td>97</td><td>NEG</td><td>0</td><td>0</td></tr><tr><td>Mon May 04 07:41:02 PDT 2009</td><td>0</td><td>hahas . dam tried . just nw got exam . don know how much i will get . . but i having fun today . with my pri sch friends  until 5plus . =D</td><td>positive</td><td>78</td><td>POS</td><td>1</td><td>1</td></tr><tr><td>Mon May 04 07:50:15 PDT 2009</td><td>0</td><td>Has just watched hannah montana the movie haha i cryed twise  poor lil me, me n me mate got up n danced to howdown throwdown Haha its grdd</td><td>negative</td><td>90</td><td>POS</td><td>0</td><td>1</td></tr><tr><td>Mon May 04 07:45:51 PDT 2009</td><td>0</td><td>$ES_F interestign setup,the FED is forced to buy bonds,whic pressures stocks,while the gvnmt spins news to raise stocks,left&amp;right hand </td><td>positive</td><td>86</td><td>NEU</td><td>1</td><td>0</td></tr><tr><td>Sat May 09 18:14:50 PDT 2009</td><td>0</td><td>Bought potted flowers for my, &amp; JPs mom. Now I wish I had a yard so I could buy myself a bunch! I miss flower gardening terribly bad </td><td>negative</td><td>88</td><td>POS</td><td>0</td><td>1</td></tr><tr><td>Sat May 09 18:14:57 PDT 2009</td><td>1</td><td>    And I don't get a shoutout from him  Help get this to him.  http://tinyurl.com/ ...</td><td>negative</td><td>85</td><td>NEG</td><td>0</td><td>0</td></tr></tbody></table></div>"
      ]
     },
     "metadata": {
      "application/vnd.databricks.v1+output": {
       "addedWidgets": {},
       "aggData": [],
       "aggError": "",
       "aggOverflow": false,
       "aggSchema": [],
       "aggSeriesLimitReached": false,
       "aggType": "",
       "arguments": {},
       "columnCustomDisplayInfos": {},
       "data": [
        [
         "Mon May 04 07:40:52 PDT 2009",
         1,
         " hilarious. so if she acts up, all you have to do is say 1 little word...&quot;gummed up&quot; grosses me out; hub says it 2 torment ",
         "positive",
         96,
         "NEG",
         1,
         0
        ],
        [
         "Mon May 04 07:49:33 PDT 2009",
         0,
         "Oh yea,justtoblazethingsupthismorning. Thererfemaledj'swho can cut&amp;mix w/ the best of them. Butudonthear them cuz feelings will get hurt. ",
         "negative",
         64,
         "NEU",
         0,
         0
        ],
        [
         "Mon May 04 07:50:07 PDT 2009",
         0,
         "rise &amp; shine people. another long day of school ahead. then math hw with Jordan? who knows.. oh I also have a big mission today too. boo ",
         "negative",
         51,
         "NEG",
         0,
         0
        ],
        [
         "Sat May 09 18:15:24 PDT 2009",
         1,
         " If you mean backround then.. Settings&gt;design.. scroll to the bottem and click change backround image  &amp; there ya go.",
         "positive",
         92,
         "NEU",
         1,
         0
        ],
        [
         "Sat May 09 18:19:33 PDT 2009",
         1,
         " pointed out that while my convertible may have 415 horsepower, the visors &quot;suck ass&quot; and I should take it back. Immediately. ",
         "negative",
         97,
         "NEG",
         0,
         0
        ],
        [
         "Mon May 04 07:41:02 PDT 2009",
         0,
         "hahas . dam tried . just nw got exam . don know how much i will get . . but i having fun today . with my pri sch friends  until 5plus . =D",
         "positive",
         78,
         "POS",
         1,
         1
        ],
        [
         "Mon May 04 07:50:15 PDT 2009",
         0,
         "Has just watched hannah montana the movie haha i cryed twise  poor lil me, me n me mate got up n danced to howdown throwdown Haha its grdd",
         "negative",
         90,
         "POS",
         0,
         1
        ],
        [
         "Mon May 04 07:45:51 PDT 2009",
         0,
         "$ES_F interestign setup,the FED is forced to buy bonds,whic pressures stocks,while the gvnmt spins news to raise stocks,left&amp;right hand ",
         "positive",
         86,
         "NEU",
         1,
         0
        ],
        [
         "Sat May 09 18:14:50 PDT 2009",
         0,
         "Bought potted flowers for my, &amp; JPs mom. Now I wish I had a yard so I could buy myself a bunch! I miss flower gardening terribly bad ",
         "negative",
         88,
         "POS",
         0,
         1
        ],
        [
         "Sat May 09 18:14:57 PDT 2009",
         1,
         "    And I don't get a shoutout from him  Help get this to him.  http://tinyurl.com/ ...",
         "negative",
         85,
         "NEG",
         0,
         0
        ]
       ],
       "datasetInfos": [],
       "dbfsResultPath": null,
       "isJsonSchema": true,
       "metadata": {},
       "overflow": false,
       "plotOptions": {
        "customPlotOptions": {},
        "displayType": "table",
        "pivotAggregation": null,
        "pivotColumns": null,
        "xColumns": null,
        "yColumns": null
       },
       "removedWidgets": [],
       "schema": [
        {
         "metadata": "{}",
         "name": "timestamp",
         "type": "\"string\""
        },
        {
         "metadata": "{}",
         "name": "mention",
         "type": "\"integer\""
        },
        {
         "metadata": "{}",
         "name": "cleaned_text",
         "type": "\"string\""
        },
        {
         "metadata": "{}",
         "name": "sentiment",
         "type": "\"string\""
        },
        {
         "metadata": "{}",
         "name": "predicted_score",
         "type": "\"integer\""
        },
        {
         "metadata": "{}",
         "name": "predicted_sentiment",
         "type": "\"string\""
        },
        {
         "metadata": "{}",
         "name": "sentiment_id",
         "type": "\"integer\""
        },
        {
         "metadata": "{}",
         "name": "predicted_sentiment_id",
         "type": "\"integer\""
        }
       ],
       "type": "table"
      }
     },
     "output_type": "display_data"
    }
   ],
   "source": [
    "display(gold_data.limit(10))"
   ]
  },
  {
   "cell_type": "markdown",
   "metadata": {
    "application/vnd.databricks.v1+cell": {
     "cellMetadata": {},
     "inputWidgets": {},
     "nuid": "0494d8b4-5a55-47fc-af12-47325f34a303",
     "showTitle": false,
     "title": ""
    }
   },
   "source": [
    "## 7.0 Capture the accuracy metrics from the gold table in MLflow\n",
    "Store the following in an MLflow experiment run:\n",
    "- Store the precision, recall, and F1-score as MLflow metrics\n",
    "- Store an image of the confusion matrix as an MLflow artifact\n",
    "- Store the mdoel name and the MLflow version that was used as an MLflow parameters\n",
    "- Store the version of the Delta Table (input-silver) as an MLflow parameter"
   ]
  },
  {
   "cell_type": "code",
   "execution_count": 0,
   "metadata": {
    "application/vnd.databricks.v1+cell": {
     "cellMetadata": {
      "byteLimit": 2048000,
      "rowLimit": 10000
     },
     "inputWidgets": {},
     "nuid": "4d8c8581-7a79-4e10-a02f-8ee91e38f93e",
     "showTitle": false,
     "title": ""
    }
   },
   "outputs": [],
   "source": [
    "gold_data = (gold_data.withColumn(\"predicted_sentiment_id\", col(\"predicted_sentiment_id\").cast(DoubleType()))\n",
    "                    .withColumn(\"sentiment_id\", col(\"sentiment_id\").cast(DoubleType())))"
   ]
  },
  {
   "cell_type": "code",
   "execution_count": 0,
   "metadata": {
    "application/vnd.databricks.v1+cell": {
     "cellMetadata": {
      "byteLimit": 2048000,
      "rowLimit": 10000
     },
     "inputWidgets": {},
     "nuid": "f1fe8d84-018a-4735-8072-f7e49c9ec56e",
     "showTitle": false,
     "title": ""
    }
   },
   "outputs": [],
   "source": [
    "# Evaluator instance\n",
    "evaluator = MulticlassClassificationEvaluator(\n",
    "    labelCol=\"sentiment_id\",\n",
    "    predictionCol=\"predicted_sentiment_id\")\n",
    "\n",
    "# Precision, recall, and F1 score\n",
    "precision = evaluator.setMetricName(\"weightedPrecision\").evaluate(gold_data)\n",
    "recall = evaluator.setMetricName(\"weightedRecall\").evaluate(gold_data)\n",
    "f1 = evaluator.setMetricName(\"f1\").evaluate(gold_data)"
   ]
  },
  {
   "cell_type": "code",
   "execution_count": 0,
   "metadata": {
    "application/vnd.databricks.v1+cell": {
     "cellMetadata": {
      "byteLimit": 2048000,
      "rowLimit": 10000
     },
     "inputWidgets": {},
     "nuid": "a6fa3864-8a6f-4fd0-9c9e-41876e8987fd",
     "showTitle": false,
     "title": ""
    }
   },
   "outputs": [],
   "source": [
    "# Confusion matrix\n",
    "confusion_matrix_df = gold_data.groupBy(\"sentiment_id\").pivot(\"predicted_sentiment_id\").count().na.fill(0)\n",
    "confusion_matrix_pandas = confusion_matrix_df.toPandas()\n",
    "confusion_matrix_pandas.set_index(\"sentiment_id\", inplace=True)"
   ]
  },
  {
   "cell_type": "code",
   "execution_count": 0,
   "metadata": {
    "application/vnd.databricks.v1+cell": {
     "cellMetadata": {
      "byteLimit": 2048000,
      "rowLimit": 10000
     },
     "inputWidgets": {},
     "nuid": "11920b94-5113-4361-bba9-4f01ed148bf9",
     "showTitle": false,
     "title": ""
    }
   },
   "outputs": [
    {
     "output_type": "display_data",
     "data": {
      "image/png": "[encoded data removed]"
     },
     "metadata": {
      "application/vnd.databricks.v1+output": {
       "addedWidgets": {},
       "arguments": {},
       "data": "data:image/png;base64,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\n",
       "datasetInfos": [],
       "metadata": {},
       "removedWidgets": [],
       "type": "image"
      }
     },
     "output_type": "display_data"
    }
   ],
   "source": [
    "# Plotting confusion matrix\n",
    "plt.figure(figsize=(12, 10))\n",
    "sns.heatmap(confusion_matrix_pandas, annot=True, fmt=\"d\")\n",
    "plt.title('Confusion Matrix')\n",
    "plt.xlabel('Predicted Labels')\n",
    "plt.ylabel('True Labels')\n",
    "\n",
    "confusion_matrix_path = '/tmp/confusion_matrix.png'\n",
    "plt.savefig(confusion_matrix_path)\n",
    "plt.show()"
   ]
  },
  {
   "cell_type": "code",
   "execution_count": 0,
   "metadata": {
    "application/vnd.databricks.v1+cell": {
     "cellMetadata": {
      "byteLimit": 2048000,
      "rowLimit": 10000
     },
     "inputWidgets": {},
     "nuid": "8998f3ac-788d-414b-8337-f6007cf0bbb3",
     "showTitle": false,
     "title": ""
    }
   },
   "outputs": [],
   "source": [
    "delta_table = DeltaTable.forPath(spark, SILVER_DELTA)\n",
    "delta_version = delta_table.history().orderBy(\"version\").select(\"version\").collect()[-1][0]\n",
    "\n",
    "# Run in mlflow\n",
    "with mlflow.start_run():\n",
    "    mlflow.log_metric(\"Precision\", precision)\n",
    "    mlflow.log_metric(\"Recall\", recall)\n",
    "    mlflow.log_metric(\"F1 Score\", f1)\n",
    "    mlflow.log_artifact(confusion_matrix_path)\n",
    "    # Log model name and MLflow version\n",
    "    mlflow.log_param(\"Model Name\", MODEL_NAME)\n",
    "    mlflow.log_param(\"MLflow Version\", mlflow.version.VERSION)\n",
    "    # Log the Delta Table version\n",
    "    mlflow.log_param(\"Delta Table Version\", delta_version)"
   ]
  },
  {
   "cell_type": "markdown",
   "metadata": {
    "application/vnd.databricks.v1+cell": {
     "cellMetadata": {},
     "inputWidgets": {},
     "nuid": "81e0e2de-b872-4698-81cc-1669646c2183",
     "showTitle": false,
     "title": ""
    }
   },
   "source": [
    "## 8.0 Application Data Processing and Visualization\n",
    "- How many mentions are there in the gold data total?\n",
    "- Count the number of neutral, positive and negative tweets for each mention in new columns\n",
    "- Capture the total for each mention in a new column\n",
    "- Sort the mention count totals in descending order\n",
    "- Plot a bar chart of the top 20 mentions with positive sentiment (the people who are in favor)\n",
    "- Plot a bar chart of the top 20 mentions with negative sentiment (the people who are the vilians)\n",
    "\n",
    "You may want to use the \"Loop Application\" widget to control whether you repeateded display the latest plots while the data comes in from your streams before moving on to the next section and cleaning up your run.\n",
    "\n",
    "*note: A mention is a specific twitter user that has been \"mentioned\" in a tweet with an @user reference."
   ]
  },
  {
   "cell_type": "code",
   "execution_count": 0,
   "metadata": {
    "application/vnd.databricks.v1+cell": {
     "cellMetadata": {
      "byteLimit": 2048000,
      "rowLimit": 10000
     },
     "inputWidgets": {},
     "nuid": "8250667b-eaa5-48a1-90c7-bfe11e666e32",
     "showTitle": false,
     "title": ""
    }
   },
   "outputs": [
    {
     "output_type": "stream",
     "name": "stdout",
     "output_type": "stream",
     "text": [
      "Number of mentions: 93817\n"
     ]
    }
   ],
   "source": [
    "# mentions in gold\n",
    "num = gold_data.filter(gold_data['mention']==1).count()\n",
    "print(f\"Number of mentions: {num}\")"
   ]
  },
  {
   "cell_type": "code",
   "execution_count": 0,
   "metadata": {
    "application/vnd.databricks.v1+cell": {
     "cellMetadata": {
      "byteLimit": 2048000,
      "rowLimit": 10000
     },
     "inputWidgets": {},
     "nuid": "f03cc00b-2d17-48c4-9749-a174f3dd9566",
     "showTitle": false,
     "title": ""
    }
   },
   "outputs": [
    {
     "output_type": "stream",
     "name": "stdout",
     "output_type": "stream",
     "text": [
      "+-------+--------------+--------------+-------------+\n|mention|positive_count|negative_count|total_mention|\n+-------+--------------+--------------+-------------+\n|      0|         52422|         53761|       106183|\n|      1|         64181|         29636|        93817|\n+-------+--------------+--------------+-------------+\n\n"
     ]
    }
   ],
   "source": [
    "#number of neutral, positive and negative tweets for each mention\n",
    "df = (gold_data\n",
    "    .withColumn('positive',when(col('sentiment') == 'positive',1).otherwise(0))\n",
    "    .withColumn('negative',when(col('sentiment') == 'negative',1).otherwise(0)))\n",
    "\n",
    "#Capture the total for each mention in a new column\n",
    "result_df = (df.groupBy(\"mention\").agg(sum(\"positive\").alias(\"positive_count\"), sum(\"negative\").alias(\"negative_count\"), count(\"mention\").alias(\"total_mention\")))\n",
    "\n",
    "#Sort the mention count totals in descending order                       \n",
    "result_df = result_df.orderBy(col(\"total_mention\").desc())\n",
    "result_df.show()"
   ]
  },
  {
   "cell_type": "code",
   "execution_count": 0,
   "metadata": {
    "application/vnd.databricks.v1+cell": {
     "cellMetadata": {
      "byteLimit": 2048000,
      "rowLimit": 10000
     },
     "inputWidgets": {},
     "nuid": "8bcb34ea-4227-4bd5-a6ee-6b1e90f974aa",
     "showTitle": false,
     "title": ""
    }
   },
   "outputs": [
    {
     "output_type": "stream",
     "name": "stdout",
     "output_type": "stream",
     "text": [
      "<Figure size 720x576 with 0 Axes>"
     ]
    },
    {
     "output_type": "display_data",
     "data": {
      "image/png": "[encoded data removed]"
     },
     "metadata": {
      "application/vnd.databricks.v1+output": {
       "addedWidgets": {},
       "arguments": {},
       "data": "data:image/png;base64,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\n",
       "datasetInfos": [],
       "metadata": {},
       "removedWidgets": [],
       "type": "image"
      }
     },
     "output_type": "display_data"
    }
   ],
   "source": [
    "# Convert to Pandas DataFrame for plotting\n",
    "result_pd = result_df.toPandas()\n",
    "\n",
    "# Top 20 positive mentions\n",
    "top_positive = result_pd.nlargest(20, 'positive_count')\n",
    "plt.figure(figsize=(10, 8))\n",
    "top_positive.plot.bar(x='mention', y='positive_count', color='blue')\n",
    "plt.title('Top 20 Mentions with Positive Sentiment')\n",
    "plt.xlabel('Mention')\n",
    "plt.ylabel('Positive Count')\n",
    "plt.show()"
   ]
  },
  {
   "cell_type": "code",
   "execution_count": 0,
   "metadata": {
    "application/vnd.databricks.v1+cell": {
     "cellMetadata": {
      "byteLimit": 2048000,
      "rowLimit": 10000
     },
     "inputWidgets": {},
     "nuid": "cb7400f0-e51b-45e9-90cb-62685dbfd08c",
     "showTitle": false,
     "title": ""
    }
   },
   "outputs": [
    {
     "output_type": "stream",
     "name": "stdout",
     "output_type": "stream",
     "text": [
      "<Figure size 720x576 with 0 Axes>"
     ]
    },
    {
     "output_type": "display_data",
     "data": {
      "image/png": "[encoded data removed]"
     },
     "metadata": {
      "application/vnd.databricks.v1+output": {
       "addedWidgets": {},
       "arguments": {},
       "data": "data:image/png;base64,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\n",
       "datasetInfos": [],
       "metadata": {},
       "removedWidgets": [],
       "type": "image"
      }
     },
     "output_type": "display_data"
    }
   ],
   "source": [
    "# Top 20 negative mentions\n",
    "top_negative = result_pd.nlargest(20, 'negative_count')\n",
    "plt.figure(figsize=(10, 8))\n",
    "top_negative.plot.bar(x='mention', y='negative_count', color='red')\n",
    "plt.title('Top 20 Mentions with Negative Sentiment')\n",
    "plt.xlabel('Mention')\n",
    "plt.ylabel('Negative Count')\n",
    "plt.show()"
   ]
  },
  {
   "cell_type": "markdown",
   "metadata": {
    "application/vnd.databricks.v1+cell": {
     "cellMetadata": {},
     "inputWidgets": {},
     "nuid": "5d5add3f-0c13-4d81-86d8-12cf3cfdd2c8",
     "showTitle": false,
     "title": ""
    }
   },
   "source": [
    "## 9.0 Clean up and completion of your pipeline\n",
    "- using the utilities what streams are running? If any.\n",
    "- Stop all active streams\n",
    "- print out the elapsed time of your notebook."
   ]
  },
  {
   "cell_type": "code",
   "execution_count": 0,
   "metadata": {
    "application/vnd.databricks.v1+cell": {
     "cellMetadata": {
      "byteLimit": 2048000,
      "rowLimit": 10000
     },
     "inputWidgets": {},
     "nuid": "0304e685-c26e-447d-b230-c37266f30003",
     "showTitle": false,
     "title": ""
    }
   },
   "outputs": [
    {
     "output_type": "stream",
     "name": "stdout",
     "output_type": "stream",
     "text": [
      "Stream Name: gold_stream\n"
     ]
    }
   ],
   "source": [
    "active_streams = spark.streams.active\n",
    "for stream in active_streams:\n",
    "    print(f\"Stream Name: {stream.name}\") # streams that are running\n",
    "    stream.stop() # Stop all active streams"
   ]
  },
  {
   "cell_type": "code",
   "execution_count": 0,
   "metadata": {
    "application/vnd.databricks.v1+cell": {
     "cellMetadata": {
      "byteLimit": 2048000,
      "rowLimit": 10000
     },
     "inputWidgets": {},
     "nuid": "ea759fc8-1d78-4d6d-b571-e2e256448b76",
     "showTitle": false,
     "title": ""
    }
   },
   "outputs": [],
   "source": [
    "# Get the notebooks ending time note START_TIME was established in the include file when the notebook started.\n",
    "END_TIME = time.time()"
   ]
  },
  {
   "cell_type": "code",
   "execution_count": 0,
   "metadata": {
    "application/vnd.databricks.v1+cell": {
     "cellMetadata": {
      "byteLimit": 2048000,
      "rowLimit": 10000
     },
     "inputWidgets": {},
     "nuid": "12a44dff-be97-4dd3-9acc-f33cb8e05a15",
     "showTitle": false,
     "title": ""
    }
   },
   "outputs": [
    {
     "output_type": "stream",
     "name": "stdout",
     "output_type": "stream",
     "text": [
      "1715465548.1588447\n1715477517.5174203\n199.48930959304172\n"
     ]
    }
   ],
   "source": [
    "#print out the elapsed time of your notebook\n",
    "print(START_TIME)\n",
    "print(END_TIME)\n",
    "print((END_TIME-START_TIME)/60)"
   ]
  },
  {
   "cell_type": "markdown",
   "metadata": {
    "application/vnd.databricks.v1+cell": {
     "cellMetadata": {},
     "inputWidgets": {},
     "nuid": "b88fc0e5-f50c-4ed1-9480-16a4c8a44b30",
     "showTitle": false,
     "title": ""
    }
   },
   "source": [
    "## 10.0 How Optimized is your Spark Application (Grad Students Only)\n",
    "Graduate students (registered for the DSCC-402 section of the course) are required to do this section.  This is a written analysis using the Spark UI (link to screen shots) that support your analysis of your pipelines execution and what is driving its performance.\n",
    "Recall that Spark Optimization has 5 significant dimensions of considertation:\n",
    "- Spill: write to executor disk due to lack of memory\n",
    "- Skew: imbalance in partition size\n",
    "- Shuffle: network io moving data between executors (wide transforms)\n",
    "- Storage: inefficiency due to disk storage format (small files, location)\n",
    "- Serialization: distribution of code segments across the cluster\n",
    "\n",
    "Comment on each of the dimentions of performance and how your impelementation is or is not being affected.  Use specific information in the Spark UI to support your description.  \n",
    "\n",
    "Note: you can take sreenshots of the Spark UI from your project runs in databricks and then link to those pictures by storing them as a publicly accessible file on your cloud drive (google, one drive, etc.)\n",
    "\n",
    "References:\n",
    "- [Spark UI Reference Reference](https://spark.apache.org/docs/latest/web-ui.html#web-ui)\n",
    "- [Spark UI Simulator](https://www.databricks.training/spark-ui-simulator/index.html)"
   ]
  },
  {
   "cell_type": "markdown",
   "metadata": {
    "application/vnd.databricks.v1+cell": {
     "cellMetadata": {},
     "inputWidgets": {},
     "nuid": "cf9f53d5-ae6f-4a70-b30e-b5be121f2c19",
     "showTitle": false,
     "title": ""
    }
   },
   "source": [
    "Spill: I could observe any spill information during the whole process, the memory allocation to executors are enough.\n",
    "\n",
    "Skew: Skew was noted where some tasks handled more data than others, but did not significantly effect the process very much.\n",
    "\n",
    "Storage: No issues with insufficient storage were observed during the process, indicating that the storage resources allocated to the Spark job were adequate.\n",
    "\n",
    "Serialization: Noted to increase running efficiency, particularly with the deployment of 4 parallel executors in this project.\n",
    " \n",
    "Shuffle: shuffle exist that cost the streaming and reading process slower because they involves disk I/O, network I/O, and CPU overheads to serialize and deserialize the data.\n",
    "https://drive.google.com/file/d/1joCmDpIthjhvSyl51Ox_3pXeLx8tkp3u/view?usp=sharing"
   ]
  },
  {
   "cell_type": "markdown",
   "metadata": {
    "application/vnd.databricks.v1+cell": {
     "cellMetadata": {},
     "inputWidgets": {},
     "nuid": "a0a5707d-a5ca-4e87-9e74-3b13d00337b0",
     "showTitle": false,
     "title": ""
    }
   },
   "source": [
    "#### URL\n",
    "https://github.com/YvetteSa/dscc202-402-spring2024\n",
    "\n",
    "#### Username \n",
    "labuser104917-3036460"
   ]
  }
 ],
 "metadata": {
  "application/vnd.databricks.v1+notebook": {
   "dashboards": [],
   "language": "python",
   "notebookMetadata": {
    "mostRecentlyExecutedCommandWithImplicitDF": {
     "commandId": -1,
     "dataframes": [
      "_sqldf"
     ]
    },
    "pythonIndentUnit": 4,
    "widgetLayout": [
     {
      "breakBefore": false,
      "name": "clear_previous_run",
      "width": 203
     },
     {
      "breakBefore": false,
      "name": "stop_streams",
      "width": 203
     }
    ]
   },
   "notebookName": "3-Starter Streaming Tweet Sentiment - Spring 2024 Final Project",
   "widgets": {
    "clear_previous_run": {
     "currentValue": "No",
     "nuid": "11b43403-c70f-41ef-ab0e-41172583baaa",
     "typedWidgetInfo": null,
     "widgetInfo": {
      "widgetType": "dropdown",
      "defaultValue": "No",
      "label": null,
      "name": "clear_previous_run",
      "options": {
       "widgetType": "dropdown",
       "autoCreated": null,
       "choices": [
        "No",
        "Yes"
       ]
      }
     }
    },
    "optimize_tables": {
     "currentValue": "No",
     "nuid": "d27f2950-3146-4010-8bc6-58c47a93e7a9",
     "typedWidgetInfo": null,
     "widgetInfo": {
      "widgetType": "dropdown",
      "defaultValue": "No",
      "label": null,
      "name": "optimize_tables",
      "options": {
       "widgetType": "dropdown",
       "autoCreated": null,
       "choices": [
        "No",
        "Yes"
       ]
      }
     }
    },
    "stop_streams": {
     "currentValue": "No",
     "nuid": "d70a2190-266e-473c-86a7-84f7bf56b386",
     "typedWidgetInfo": null,
     "widgetInfo": {
      "widgetType": "dropdown",
      "defaultValue": "No",
      "label": null,
      "name": "stop_streams",
      "options": {
       "widgetType": "dropdown",
       "autoCreated": null,
       "choices": [
        "No",
        "Yes"
       ]
      }
     }
    }
   }
  }
 },
 "nbformat": 4,
 "nbformat_minor": 0
}
